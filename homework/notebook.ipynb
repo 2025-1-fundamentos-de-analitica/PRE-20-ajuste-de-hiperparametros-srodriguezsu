{
 "cells": [
  {
   "cell_type": "code",
   "execution_count": 23,
   "id": "5e2536ec",
   "metadata": {
    "ExecuteTime": {
     "end_time": "2025-06-18T15:56:01.093535900Z",
     "start_time": "2025-06-18T15:56:01.085493800Z"
    }
   },
   "outputs": [],
   "source": [
    "#\n",
    "# Empaquetado del entrenamiento del modelo\n",
    "#\n",
    "def train_estimator(alpha=0.5, l1_ratio=0.5, verbose=1):\n",
    "\n",
    "    import os\n",
    "    import pickle\n",
    "\n",
    "    import pandas as pd\n",
    "    from sklearn.linear_model import ElasticNet\n",
    "    from sklearn.metrics import mean_absolute_error, mean_squared_error, r2_score\n",
    "    from sklearn.model_selection import train_test_split\n",
    "\n",
    "    url = \"http://archive.ics.uci.edu/ml/machine-learning-databases/wine-quality/winequality-red.csv\"\n",
    "    df = pd.read_csv(url, sep=\";\")\n",
    "\n",
    "    y = df[\"quality\"]\n",
    "    x = df.copy()\n",
    "    x.pop(\"quality\")\n",
    "\n",
    "    (x_train, x_test, y_train, y_test) = train_test_split(\n",
    "        x,\n",
    "        y,\n",
    "        test_size=0.25,\n",
    "        random_state=0,\n",
    "    )\n",
    "\n",
    "    estimator = ElasticNet(alpha=alpha, l1_ratio=l1_ratio, random_state=12345)\n",
    "\n",
    "    estimator.fit(x_train, y_train)\n",
    "    y_pred = estimator.predict(x_test)\n",
    "\n",
    "    mse = mean_squared_error(y_test, y_pred)\n",
    "    mae = mean_absolute_error(y_test, y_pred)\n",
    "    r2 = r2_score(y_test, y_pred)\n",
    "\n",
    "    if verbose > 0:\n",
    "        print(estimator, \":\", sep=\"\")\n",
    "        print(f\"  MSE: {mse}\")\n",
    "        print(f\"  MAE: {mae}\")\n",
    "        print(f\"  R2: {r2}\")\n",
    "\n",
    "    if not os.path.exists(\"estimator.pickle\"):\n",
    "        saved_estimator = None\n",
    "    else:\n",
    "        with open(\"estimator.pickle\", \"rb\") as file:\n",
    "            saved_estimator = pickle.load(file)\n",
    "\n",
    "    if saved_estimator is None or estimator.score(\n",
    "        x_test, y_test\n",
    "    ) > saved_estimator.score(x_test, y_test):\n",
    "        with open(\"estimator.pickle\", \"wb\") as file:\n",
    "            pickle.dump(estimator, file)\n"
   ]
  },
  {
   "cell_type": "code",
   "execution_count": 24,
   "id": "5ec67fdf",
   "metadata": {
    "ExecuteTime": {
     "end_time": "2025-06-18T15:56:01.827383700Z",
     "start_time": "2025-06-18T15:56:01.097535200Z"
    }
   },
   "outputs": [
    {
     "name": "stdout",
     "output_type": "stream",
     "text": [
      "ElasticNet(alpha=0.5, random_state=12345):\n",
      "  MSE: 0.5294843132862007\n",
      "  MAE: 0.5894666734018875\n",
      "  R2: 0.13368827268570616\n",
      "Modelo entrenado y guardado en 'estimator.pickle'.\n",
      "Para predecir, use el comando 'predict.py'.\n"
     ]
    }
   ],
   "source": [
    "train_estimator(alpha=0.5, l1_ratio=0.5, verbose=1)\n",
    "print(\"Modelo entrenado y guardado en 'estimator.pickle'.\")\n",
    "print(\"Para predecir, use el comando 'predict.py'.\")"
   ]
  },
  {
   "cell_type": "code",
   "execution_count": 25,
   "id": "ed906b52",
   "metadata": {
    "ExecuteTime": {
     "end_time": "2025-06-18T15:56:02.588366200Z",
     "start_time": "2025-06-18T15:56:01.825384600Z"
    }
   },
   "outputs": [
    {
     "name": "stdout",
     "output_type": "stream",
     "text": [
      "ElasticNet(alpha=0.2, l1_ratio=0.9, random_state=12345):\n",
      "  MSE: 0.4838276670487889\n",
      "  MAE: 0.5560295747909655\n",
      "  R2: 0.20838904676497616\n",
      "Modelo entrenado y guardado en 'estimator.pickle'.\n",
      "Para predecir, use el comando 'predict.py'.\n"
     ]
    }
   ],
   "source": [
    "train_estimator(alpha=0.2, l1_ratio=0.9, verbose=1)\n",
    "print(\"Modelo entrenado y guardado en 'estimator.pickle'.\")\n",
    "print(\"Para predecir, use el comando 'predict.py'.\")"
   ]
  },
  {
   "cell_type": "code",
   "execution_count": 26,
   "id": "c7a54900",
   "metadata": {
    "ExecuteTime": {
     "end_time": "2025-06-18T15:56:25.789709900Z",
     "start_time": "2025-06-18T15:56:02.585369500Z"
    }
   },
   "outputs": [],
   "source": [
    "for i in range(5):\n",
    "  for j in range(5):\n",
    "    train_estimator(alpha=0.1 + i * 0.1, l1_ratio=0.1 + j * 0.1, verbose=0)\n",
    "    "
   ]
  },
  {
   "cell_type": "code",
   "execution_count": 27,
   "id": "4ef84840",
   "metadata": {
    "ExecuteTime": {
     "end_time": "2025-06-18T15:56:26.533631500Z",
     "start_time": "2025-06-18T15:56:25.792712100Z"
    }
   },
   "outputs": [
    {
     "data": {
      "text/plain": "array([5.24090703, 5.31521455, 5.33699336, ..., 5.80575678, 5.50547416,\n       5.78406716], shape=(1599,))"
     },
     "execution_count": 27,
     "metadata": {},
     "output_type": "execute_result"
    }
   ],
   "source": [
    "#\n",
    "# Uso del modelo en productivo\n",
    "#\n",
    "def use_estimator():\n",
    "\n",
    "    import pandas as pd\n",
    "    import pickle\n",
    "\n",
    "    url = \"http://archive.ics.uci.edu/ml/machine-learning-databases/wine-quality/winequality-red.csv\"\n",
    "    df = pd.read_csv(url, sep=\";\")\n",
    "\n",
    "    y = df[\"quality\"]\n",
    "    x = df.copy()\n",
    "    x.pop(\"quality\")\n",
    "\n",
    "    with open(\"estimator.pickle\", \"rb\") as file:\n",
    "        estimator = pickle.load(file)\n",
    "\n",
    "    y_pred = estimator.predict(x)\n",
    "\n",
    "    return y_pred\n",
    "\n",
    "use_estimator()\n"
   ]
  },
  {
   "cell_type": "code",
   "execution_count": 28,
   "id": "b4132f1d",
   "metadata": {
    "ExecuteTime": {
     "end_time": "2025-06-18T15:56:26.535641200Z",
     "start_time": "2025-06-18T15:56:26.531123800Z"
    }
   },
   "outputs": [],
   "source": [
    "# Carga de datos\n",
    "#\n",
    "def load_data():\n",
    "\n",
    "    import pandas as pd\n",
    "\n",
    "    url = \"http://archive.ics.uci.edu/ml/machine-learning-databases/wine-quality/winequality-red.csv\"\n",
    "    df = pd.read_csv(url, sep=\";\")\n",
    "\n",
    "    y = df[\"quality\"]\n",
    "    x = df.copy()\n",
    "    x.pop(\"quality\")\n",
    "\n",
    "    return x, y"
   ]
  },
  {
   "cell_type": "code",
   "execution_count": 29,
   "id": "582b4cca",
   "metadata": {
    "ExecuteTime": {
     "end_time": "2025-06-18T15:56:26.541152100Z",
     "start_time": "2025-06-18T15:56:26.536642500Z"
    }
   },
   "outputs": [],
   "source": [
    "\n",
    "    \n",
    "#\n",
    "# Particionamiento de datos\n",
    "#\n",
    "def make_train_test_split(x, y):\n",
    "\n",
    "    from sklearn.model_selection import train_test_split\n",
    "\n",
    "    (x_train, x_test, y_train, y_test) = train_test_split(\n",
    "        x,\n",
    "        y,\n",
    "        test_size=0.25,\n",
    "        random_state=0,\n",
    "    )\n",
    "    return x_train, x_test, y_train, y_test    \n",
    "    \n",
    "    "
   ]
  },
  {
   "cell_type": "code",
   "execution_count": 30,
   "id": "bcfbc30f",
   "metadata": {
    "ExecuteTime": {
     "end_time": "2025-06-18T15:56:26.548610300Z",
     "start_time": "2025-06-18T15:56:26.542155800Z"
    }
   },
   "outputs": [],
   "source": [
    "#\n",
    "# Cálculo de metricas de evaluación\n",
    "#\n",
    "def eval_metrics(y_true, y_pred):\n",
    "\n",
    "    from sklearn.metrics import mean_absolute_error, mean_squared_error, r2_score\n",
    "\n",
    "    mse = mean_squared_error(y_true, y_pred)\n",
    "    mae = mean_absolute_error(y_true, y_pred)\n",
    "    r2 = r2_score(y_true, y_pred)\n",
    "\n",
    "    return mse, mae, r2\n",
    "    "
   ]
  },
  {
   "cell_type": "code",
   "execution_count": 31,
   "id": "894dc9a3",
   "metadata": {
    "ExecuteTime": {
     "end_time": "2025-06-18T15:56:26.554885100Z",
     "start_time": "2025-06-18T15:56:26.548610300Z"
    }
   },
   "outputs": [],
   "source": [
    "#\n",
    "# Reporte de métricas de evaluación\n",
    "#\n",
    "def report(estimator, mse, mae, r2):\n",
    "\n",
    "    print(estimator, \":\", sep=\"\")\n",
    "    print(f\"  MSE: {mse}\")\n",
    "    print(f\"  MAE: {mae}\")\n",
    "    print(f\"  R2: {r2}\")\n",
    "    \n",
    "    "
   ]
  },
  {
   "cell_type": "code",
   "execution_count": 32,
   "id": "b7a1f0a7",
   "metadata": {
    "ExecuteTime": {
     "end_time": "2025-06-18T15:56:26.559826700Z",
     "start_time": "2025-06-18T15:56:26.554885100Z"
    }
   },
   "outputs": [],
   "source": [
    "    \n",
    "    \n",
    "#\n",
    "# Almacenamiento del modelo\n",
    "#\n",
    "def save_best_estimator(estimator):\n",
    "\n",
    "    import os\n",
    "    import pickle\n",
    "\n",
    "    with open(\"estimator.pickle\", \"wb\") as file:\n",
    "        pickle.dump(estimator, file)\n",
    "        \n",
    "        \n",
    "        "
   ]
  },
  {
   "cell_type": "code",
   "execution_count": 33,
   "id": "9e3edc3e",
   "metadata": {
    "ExecuteTime": {
     "end_time": "2025-06-18T15:56:26.580033900Z",
     "start_time": "2025-06-18T15:56:26.561825200Z"
    }
   },
   "outputs": [],
   "source": [
    "#\n",
    "# Carga del modelo\n",
    "#\n",
    "def load_best_estimator():\n",
    "\n",
    "    import os\n",
    "    import pickle\n",
    "\n",
    "    if not os.path.exists(\"estimator.pickle\"):\n",
    "        return None\n",
    "    with open(\"estimator.pickle\", \"rb\") as file:\n",
    "        estimator = pickle.load(file)\n",
    "\n",
    "    return estimator\n",
    "    \n",
    "    \n",
    "    \n",
    "    "
   ]
  },
  {
   "cell_type": "code",
   "execution_count": 34,
   "id": "6720deef",
   "metadata": {
    "ExecuteTime": {
     "end_time": "2025-06-18T15:56:26.581033300Z",
     "start_time": "2025-06-18T15:56:26.568870700Z"
    }
   },
   "outputs": [],
   "source": [
    "#\n",
    "# Entrenamiento\n",
    "#\n",
    "def train_estimator(alpha=0.5, l1_ratio=0.5, verbose=1):\n",
    "\n",
    "    from sklearn.linear_model import ElasticNet\n",
    "\n",
    "    x, y = load_data()\n",
    "    x_train, x_test, y_train, y_test = make_train_test_split(x, y)\n",
    "    estimator = ElasticNet(alpha=alpha, l1_ratio=l1_ratio, random_state=12345)\n",
    "    estimator.fit(x_train, y_train)\n",
    "    mse, mae, r2 = eval_metrics(y_test, y_pred=estimator.predict(x_test))\n",
    "    if verbose > 0:\n",
    "        report(estimator, mse, mae, r2)\n",
    "\n",
    "    best_estimator = load_best_estimator()\n",
    "    if best_estimator is None or estimator.score(x_test, y_test) > best_estimator.score(\n",
    "        x_test, y_test\n",
    "    ):\n",
    "        best_estimator = estimator\n",
    "\n",
    "    save_best_estimator(best_estimator)\n",
    "    \n",
    "    \n",
    "    "
   ]
  },
  {
   "cell_type": "code",
   "execution_count": 35,
   "id": "eeda0510",
   "metadata": {
    "ExecuteTime": {
     "end_time": "2025-06-18T15:56:26.581033300Z",
     "start_time": "2025-06-18T15:56:26.572884100Z"
    }
   },
   "outputs": [],
   "source": [
    "def pipeline(alpha=0.5, l1_ratio=0.5, verbose=1):\n",
    "    \"\"\"\n",
    "    Pipeline para entrenar el modelo y guardarlo.\n",
    "    \"\"\"\n",
    "    train_estimator(alpha=alpha, l1_ratio=l1_ratio, verbose=verbose)\n",
    "    print(\"Modelo entrenado y guardado en 'estimator.pickle'.\")\n",
    "    print(\"Para predecir, use el comando 'predict.py'.\")  "
   ]
  },
  {
   "cell_type": "code",
   "execution_count": 36,
   "id": "704eaba3",
   "metadata": {
    "ExecuteTime": {
     "end_time": "2025-06-18T15:56:30.501831700Z",
     "start_time": "2025-06-18T15:56:26.579032300Z"
    }
   },
   "outputs": [
    {
     "name": "stdout",
     "output_type": "stream",
     "text": [
      "ElasticNet(alpha=0.1, l1_ratio=0.1, random_state=12345):\n",
      "  MSE: 0.4183271587407731\n",
      "  MAE: 0.5055024368693067\n",
      "  R2: 0.31555720466583137\n",
      "Modelo entrenado y guardado en 'estimator.pickle'.\n",
      "Para predecir, use el comando 'predict.py'.\n",
      "ElasticNet(alpha=0.2, l1_ratio=0.2, random_state=12345):\n",
      "  MSE: 0.43869119518947153\n",
      "  MAE: 0.5236106762028768\n",
      "  R2: 0.2822387414965034\n",
      "Modelo entrenado y guardado en 'estimator.pickle'.\n",
      "Para predecir, use el comando 'predict.py'.\n",
      "ElasticNet(alpha=0.3, l1_ratio=0.3, random_state=12345):\n",
      "  MSE: 0.4564369948553093\n",
      "  MAE: 0.5381363876807477\n",
      "  R2: 0.25320408650234194\n",
      "Modelo entrenado y guardado en 'estimator.pickle'.\n",
      "Para predecir, use el comando 'predict.py'.\n",
      "ElasticNet(alpha=0.4, l1_ratio=0.4, random_state=12345):\n",
      "  MSE: 0.48712574748446\n",
      "  MAE: 0.5580061563349417\n",
      "  R2: 0.20299291757407534\n",
      "Modelo entrenado y guardado en 'estimator.pickle'.\n",
      "Para predecir, use el comando 'predict.py'.\n"
     ]
    }
   ],
   "source": [
    "alpha = [0.1, 0.2, 0.3, 0.4]\n",
    "l1_ratio = [0.1, 0.2, 0.3, 0.4]\n",
    "# Ejecutar el pipeline con diferentes combinaciones de alpha y l1_ratio\n",
    "\n",
    "for i,j in  zip(alpha, l1_ratio):\n",
    "    pipeline(alpha=i, l1_ratio=j, verbose=1)"
   ]
  },
  {
   "cell_type": "code",
   "execution_count": 37,
   "id": "e4b51b03",
   "metadata": {
    "ExecuteTime": {
     "end_time": "2025-06-18T15:56:31.221243700Z",
     "start_time": "2025-06-18T15:56:30.500831900Z"
    }
   },
   "outputs": [
    {
     "name": "stdout",
     "output_type": "stream",
     "text": [
      "ElasticNet(alpha=0.1, l1_ratio=0.1, random_state=12345):\n",
      "  MSE: 0.4183271587407731\n",
      "  MAE: 0.5055024368693067\n",
      "  R2: 0.31555720466583137\n"
     ]
    }
   ],
   "source": [
    "def check_estimator():\n",
    "\n",
    "    x, y = load_data()\n",
    "    x_train, x_test, y_train, y_test = make_train_test_split(x, y)\n",
    "    estimator = load_best_estimator()\n",
    "    mse, mae, r2 = eval_metrics(y_test, y_pred=estimator.predict(x_test))\n",
    "    report(estimator, mse, mae, r2)\n",
    "\n",
    "\n",
    "#\n",
    "# Debe coincidir con el mejor modelo encontrado en la celdas anteriores\n",
    "#\n",
    "check_estimator()"
   ]
  },
  {
   "cell_type": "code",
   "execution_count": 38,
   "id": "1524debe",
   "metadata": {
    "ExecuteTime": {
     "end_time": "2025-06-18T15:56:31.221243700Z",
     "start_time": "2025-06-18T15:56:31.216718400Z"
    }
   },
   "outputs": [],
   "source": [
    "\n",
    "\n",
    "def make_hyperparameters_search(alphas, l1_ratios):\n",
    "\n",
    "    for alpha in alphas:\n",
    "        for l1_ratio in l1_ratios:\n",
    "            train_estimator(alpha=alpha, l1_ratio=l1_ratio, verbose=0)\n",
    "            \n",
    "            "
   ]
  },
  {
   "cell_type": "code",
   "execution_count": 39,
   "id": "35dd1163",
   "metadata": {
    "ExecuteTime": {
     "end_time": "2025-06-18T15:57:49.747607100Z",
     "start_time": "2025-06-18T15:56:31.220243200Z"
    }
   },
   "outputs": [
    {
     "name": "stdout",
     "output_type": "stream",
     "text": [
      "ElasticNet(alpha=np.float64(0.0001), l1_ratio=np.float64(0.0001),\n",
      "           random_state=12345):\n",
      "  MSE: 0.40021745821413146\n",
      "  MAE: 0.4848004855172136\n",
      "  R2: 0.34518725328239785\n"
     ]
    }
   ],
   "source": [
    "    \n",
    "import numpy as np\n",
    "\n",
    "alphas = np.linspace(0.0001, 0.5, 10)\n",
    "l1_ratios = np.linspace(0.0001, 0.5, 10)\n",
    "make_hyperparameters_search(alphas, l1_ratios)\n",
    "check_estimator()"
   ]
  },
  {
   "cell_type": "code",
   "execution_count": 40,
   "id": "50edd467",
   "metadata": {
    "ExecuteTime": {
     "end_time": "2025-06-18T15:57:49.758601900Z",
     "start_time": "2025-06-18T15:57:49.752592400Z"
    }
   },
   "outputs": [],
   "source": [
    "\n",
    "\n",
    "def train_estimator(alphas, l1_ratios, n_splits=5, verbose=1):\n",
    "\n",
    "    from sklearn.linear_model import ElasticNet\n",
    "    from sklearn.model_selection import GridSearchCV\n",
    "\n",
    "    x, y = load_data()\n",
    "    x_train, x_test, y_train, y_test = make_train_test_split(x, y)\n",
    "\n",
    "    # -------------------------------------------------------------------------\n",
    "    # Búsqueda de parámetros con validación cruzada\n",
    "    #\n",
    "    estimator = GridSearchCV(\n",
    "        estimator=ElasticNet(\n",
    "            random_state=12345,\n",
    "        ),\n",
    "        param_grid={\n",
    "            \"alpha\": alphas,\n",
    "            \"l1_ratio\": l1_ratios,\n",
    "        },\n",
    "        cv=n_splits,\n",
    "        refit=True,\n",
    "        verbose=0,\n",
    "        return_train_score=False,\n",
    "    )\n",
    "    # -------------------------------------------------------------------------\n",
    "\n",
    "    estimator.fit(x_train, y_train)\n",
    "\n",
    "    estimator = estimator.best_estimator_\n",
    "\n",
    "    mse, mae, r2 = eval_metrics(y_test, y_pred=estimator.predict(x_test))\n",
    "    if verbose > 0:\n",
    "        report(estimator, mse, mae, r2)\n",
    "\n",
    "    best_estimator = load_best_estimator()\n",
    "    if best_estimator is None or estimator.score(x_test, y_test) > best_estimator.score(\n",
    "        x_test, y_test\n",
    "    ):\n",
    "        best_estimator = estimator\n",
    "\n",
    "    save_best_estimator(best_estimator)"
   ]
  },
  {
   "cell_type": "code",
   "execution_count": 41,
   "id": "ab9b6fac",
   "metadata": {
    "ExecuteTime": {
     "end_time": "2025-06-18T15:57:51.735155700Z",
     "start_time": "2025-06-18T15:57:49.755602600Z"
    }
   },
   "outputs": [
    {
     "name": "stdout",
     "output_type": "stream",
     "text": [
      "ElasticNet(alpha=np.float64(0.0001), l1_ratio=np.float64(0.0001),\n",
      "           random_state=12345):\n",
      "  MSE: 0.40021745821413146\n",
      "  MAE: 0.4848004855172136\n",
      "  R2: 0.34518725328239785\n"
     ]
    }
   ],
   "source": [
    "train_estimator(alphas, l1_ratios, n_splits=5, verbose=1)"
   ]
  },
  {
   "cell_type": "code",
   "execution_count": 42,
   "id": "655d4010",
   "metadata": {
    "ExecuteTime": {
     "end_time": "2025-06-18T15:57:52.523622800Z",
     "start_time": "2025-06-18T15:57:51.737157500Z"
    }
   },
   "outputs": [
    {
     "name": "stdout",
     "output_type": "stream",
     "text": [
      "ElasticNet(alpha=np.float64(0.0001), l1_ratio=np.float64(0.0001),\n",
      "           random_state=12345):\n",
      "  MSE: 0.40021745821413146\n",
      "  MAE: 0.4848004855172136\n",
      "  R2: 0.34518725328239785\n"
     ]
    }
   ],
   "source": [
    "check_estimator()"
   ]
  },
  {
   "cell_type": "code",
   "execution_count": 43,
   "id": "fb0c8879",
   "metadata": {
    "ExecuteTime": {
     "end_time": "2025-06-18T15:57:53.232126600Z",
     "start_time": "2025-06-18T15:57:52.523622800Z"
    }
   },
   "outputs": [
    {
     "name": "stdout",
     "output_type": "stream",
     "text": [
      "ElasticNet(alpha=np.float64(0.0001), l1_ratio=np.float64(0.0001),\n",
      "           random_state=12345):\n",
      "  MSE: 0.40021745821413146\n",
      "  MAE: 0.4848004855172136\n",
      "  R2: 0.34518725328239785\n"
     ]
    }
   ],
   "source": [
    "save_best_estimator(check_estimator())"
   ]
  }
 ],
 "metadata": {
  "kernelspec": {
   "display_name": ".venv",
   "language": "python",
   "name": "python3"
  },
  "language_info": {
   "codemirror_mode": {
    "name": "ipython",
    "version": 3
   },
   "file_extension": ".py",
   "mimetype": "text/x-python",
   "name": "python",
   "nbconvert_exporter": "python",
   "pygments_lexer": "ipython3",
   "version": "3.12.6"
  }
 },
 "nbformat": 4,
 "nbformat_minor": 5
}
