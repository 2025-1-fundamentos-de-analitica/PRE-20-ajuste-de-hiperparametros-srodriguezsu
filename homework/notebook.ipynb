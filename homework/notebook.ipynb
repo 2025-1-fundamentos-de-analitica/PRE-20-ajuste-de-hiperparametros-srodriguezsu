{
 "cells": [
  {
   "cell_type": "code",
   "execution_count": 44,
   "id": "4c598583",
   "metadata": {
    "ExecuteTime": {
     "end_time": "2025-06-18T16:00:35.844326Z",
     "start_time": "2025-06-18T16:00:35.834501500Z"
    }
   },
   "outputs": [],
   "source": [
    "#\n",
    "# Empaquetado del entrenamiento del modelo\n",
    "#\n",
    "def train_estimator(alpha=0.5, l1_ratio=0.5, verbose=1):\n",
    "\n",
    "    import os\n",
    "    import pickle\n",
    "\n",
    "    import pandas as pd\n",
    "    from sklearn.linear_model import ElasticNet\n",
    "    from sklearn.metrics import mean_absolute_error, mean_squared_error, r2_score\n",
    "    from sklearn.model_selection import train_test_split\n",
    "\n",
    "    url = \"http://archive.ics.uci.edu/ml/machine-learning-databases/wine-quality/winequality-red.csv\"\n",
    "    df = pd.read_csv(url, sep=\";\")\n",
    "\n",
    "    y = df[\"quality\"]\n",
    "    x = df.copy()\n",
    "    x.pop(\"quality\")\n",
    "\n",
    "    (x_train, x_test, y_train, y_test) = train_test_split(\n",
    "        x,\n",
    "        y,\n",
    "        test_size=0.25,\n",
    "        random_state=0,\n",
    "    )\n",
    "\n",
    "    estimator = ElasticNet(alpha=alpha, l1_ratio=l1_ratio, random_state=12345)\n",
    "\n",
    "    estimator.fit(x_train, y_train)\n",
    "    y_pred = estimator.predict(x_test)\n",
    "\n",
    "    mse = mean_squared_error(y_test, y_pred)\n",
    "    mae = mean_absolute_error(y_test, y_pred)\n",
    "    r2 = r2_score(y_test, y_pred)\n",
    "\n",
    "    if verbose > 0:\n",
    "        print(estimator, \":\", sep=\"\")\n",
    "        print(f\"  MSE: {mse}\")\n",
    "        print(f\"  MAE: {mae}\")\n",
    "        print(f\"  R2: {r2}\")\n",
    "\n",
    "    if not os.path.exists(\"estimator.pickle\"):\n",
    "        saved_estimator = None\n",
    "    else:\n",
    "        with open(\"estimator.pickle\", \"rb\") as file:\n",
    "            saved_estimator = pickle.load(file)\n",
    "\n",
    "    if saved_estimator is None or estimator.score(\n",
    "        x_test, y_test\n",
    "    ) > saved_estimator.score(x_test, y_test):\n",
    "        with open(\"estimator.pickle\", \"wb\") as file:\n",
    "            pickle.dump(estimator, file)"
   ]
  },
  {
   "cell_type": "code",
   "execution_count": 45,
   "id": "4812c4f6",
   "metadata": {
    "ExecuteTime": {
     "end_time": "2025-06-18T16:00:36.645606800Z",
     "start_time": "2025-06-18T16:00:35.850462100Z"
    }
   },
   "outputs": [
    {
     "name": "stdout",
     "output_type": "stream",
     "text": [
      "ElasticNet(alpha=0.2, l1_ratio=0.2, random_state=12345):\n",
      "  MSE: 0.43869119518947153\n",
      "  MAE: 0.5236106762028768\n",
      "  R2: 0.2822387414965034\n"
     ]
    }
   ],
   "source": [
    "######\n",
    "#\n",
    "# Experimiento\n",
    "#\n",
    "train_estimator(0.2, 0.2)"
   ]
  },
  {
   "cell_type": "code",
   "execution_count": 46,
   "id": "1e46349d",
   "metadata": {
    "ExecuteTime": {
     "end_time": "2025-06-18T16:00:37.567933Z",
     "start_time": "2025-06-18T16:00:36.645606800Z"
    }
   },
   "outputs": [
    {
     "name": "stdout",
     "output_type": "stream",
     "text": [
      "ElasticNet(alpha=0.5, random_state=12345):\n",
      "  MSE: 0.5294843132862007\n",
      "  MAE: 0.5894666734018875\n",
      "  R2: 0.13368827268570616\n"
     ]
    }
   ],
   "source": [
    "#\n",
    "# Experimiento\n",
    "#\n",
    "train_estimator(0.5, 0.5)\n"
   ]
  },
  {
   "cell_type": "code",
   "execution_count": 47,
   "id": "9c158419",
   "metadata": {
    "ExecuteTime": {
     "end_time": "2025-06-18T16:00:39.666436500Z",
     "start_time": "2025-06-18T16:00:37.549935400Z"
    }
   },
   "outputs": [
    {
     "data": {
      "text/plain": "array([5.3398286 , 5.4181238 , 5.41836123, ..., 5.77802097, 5.5401108 ,\n       5.71068002], shape=(1599,))"
     },
     "execution_count": 47,
     "metadata": {},
     "output_type": "execute_result"
    }
   ],
   "source": [
    "#####\n",
    "\n",
    "#\n",
    "# Uso del modelo en productivo\n",
    "#\n",
    "def use_estimator():\n",
    "\n",
    "    import pandas as pd\n",
    "    import pickle\n",
    "\n",
    "    url = \"http://archive.ics.uci.edu/ml/machine-learning-databases/wine-quality/winequality-red.csv\"\n",
    "    df = pd.read_csv(url, sep=\";\")\n",
    "\n",
    "    y = df[\"quality\"]\n",
    "    x = df.copy()\n",
    "    x.pop(\"quality\")\n",
    "\n",
    "    with open(\"estimator.pickle\", \"rb\") as file:\n",
    "        estimator = pickle.load(file)\n",
    "\n",
    "    y_pred = estimator.predict(x)\n",
    "\n",
    "    return y_pred\n",
    "\n",
    "use_estimator()"
   ]
  },
  {
   "cell_type": "code",
   "execution_count": 48,
   "id": "70c202ea",
   "metadata": {
    "ExecuteTime": {
     "end_time": "2025-06-18T16:00:39.667533800Z",
     "start_time": "2025-06-18T16:00:39.665931100Z"
    }
   },
   "outputs": [],
   "source": [
    "########\n",
    "\n",
    "#\n",
    "# Carga de datos\n",
    "#\n",
    "def load_data():\n",
    "\n",
    "    import pandas as pd\n",
    "\n",
    "    url = \"http://archive.ics.uci.edu/ml/machine-learning-databases/wine-quality/winequality-red.csv\"\n",
    "    df = pd.read_csv(url, sep=\";\")\n",
    "\n",
    "    y = df[\"quality\"]\n",
    "    x = df.copy()\n",
    "    x.pop(\"quality\")\n",
    "\n",
    "    return x, y"
   ]
  },
  {
   "cell_type": "code",
   "execution_count": 49,
   "id": "1cbed160",
   "metadata": {
    "ExecuteTime": {
     "end_time": "2025-06-18T16:00:39.677069600Z",
     "start_time": "2025-06-18T16:00:39.669662900Z"
    }
   },
   "outputs": [],
   "source": [
    "#\n",
    "# Particionamiento de datos\n",
    "#\n",
    "def make_train_test_split(x, y):\n",
    "\n",
    "    from sklearn.model_selection import train_test_split\n",
    "\n",
    "    (x_train, x_test, y_train, y_test) = train_test_split(\n",
    "        x,\n",
    "        y,\n",
    "        test_size=0.25,\n",
    "        random_state=0,\n",
    "    )\n",
    "    return x_train, x_test, y_train, y_test    "
   ]
  },
  {
   "cell_type": "code",
   "execution_count": 50,
   "id": "15c17280",
   "metadata": {
    "ExecuteTime": {
     "end_time": "2025-06-18T16:00:39.681339700Z",
     "start_time": "2025-06-18T16:00:39.677069600Z"
    }
   },
   "outputs": [],
   "source": [
    "#\n",
    "# Cálculo de metricas de evaluación\n",
    "#\n",
    "def eval_metrics(y_true, y_pred):\n",
    "\n",
    "    from sklearn.metrics import mean_absolute_error, mean_squared_error, r2_score\n",
    "\n",
    "    mse = mean_squared_error(y_true, y_pred)\n",
    "    mae = mean_absolute_error(y_true, y_pred)\n",
    "    r2 = r2_score(y_true, y_pred)\n",
    "\n",
    "    return mse, mae, r2"
   ]
  },
  {
   "cell_type": "code",
   "execution_count": 51,
   "id": "c048f7b8",
   "metadata": {
    "ExecuteTime": {
     "end_time": "2025-06-18T16:00:39.693543300Z",
     "start_time": "2025-06-18T16:00:39.682402700Z"
    }
   },
   "outputs": [],
   "source": [
    "#\n",
    "# Reporte de métricas de evaluación\n",
    "#\n",
    "def report(estimator, mse, mae, r2):\n",
    "\n",
    "    print(estimator, \":\", sep=\"\")\n",
    "    print(f\"  MSE: {mse}\")\n",
    "    print(f\"  MAE: {mae}\")\n",
    "    print(f\"  R2: {r2}\")"
   ]
  },
  {
   "cell_type": "code",
   "execution_count": 52,
   "id": "1cd94915",
   "metadata": {
    "ExecuteTime": {
     "end_time": "2025-06-18T16:00:39.694606Z",
     "start_time": "2025-06-18T16:00:39.688017800Z"
    }
   },
   "outputs": [],
   "source": [
    "#\n",
    "# Almacenamiento del modelo\n",
    "#\n",
    "def save_best_estimator(estimator):\n",
    "\n",
    "    import os\n",
    "    import pickle\n",
    "\n",
    "    with open(\"estimator.pickle\", \"wb\") as file:\n",
    "        pickle.dump(estimator, file)"
   ]
  },
  {
   "cell_type": "code",
   "execution_count": 53,
   "id": "145b10a6",
   "metadata": {
    "ExecuteTime": {
     "end_time": "2025-06-18T16:00:39.703664900Z",
     "start_time": "2025-06-18T16:00:39.693543300Z"
    }
   },
   "outputs": [],
   "source": [
    "#\n",
    "# Carga del modelo\n",
    "#\n",
    "def load_best_estimator():\n",
    "\n",
    "    import os\n",
    "    import pickle\n",
    "\n",
    "    if not os.path.exists(\"estimator.pickle\"):\n",
    "        return None\n",
    "    with open(\"estimator.pickle\", \"rb\") as file:\n",
    "        estimator = pickle.load(file)\n",
    "\n",
    "    return estimator"
   ]
  },
  {
   "cell_type": "code",
   "execution_count": 54,
   "id": "cbf79b87",
   "metadata": {
    "ExecuteTime": {
     "end_time": "2025-06-18T16:00:39.715350500Z",
     "start_time": "2025-06-18T16:00:39.701037600Z"
    }
   },
   "outputs": [],
   "source": [
    "#\n",
    "# Entrenamiento\n",
    "#\n",
    "def train_estimator(alpha=0.5, l1_ratio=0.5, verbose=1):\n",
    "\n",
    "    from sklearn.linear_model import ElasticNet\n",
    "\n",
    "    x, y = load_data()\n",
    "    x_train, x_test, y_train, y_test = make_train_test_split(x, y)\n",
    "    estimator = ElasticNet(alpha=alpha, l1_ratio=l1_ratio, random_state=12345)\n",
    "    estimator.fit(x_train, y_train)\n",
    "    mse, mae, r2 = eval_metrics(y_test, y_pred=estimator.predict(x_test))\n",
    "    if verbose > 0:\n",
    "        report(estimator, mse, mae, r2)\n",
    "\n",
    "    best_estimator = load_best_estimator()\n",
    "    if best_estimator is None or estimator.score(x_test, y_test) > best_estimator.score(\n",
    "        x_test, y_test\n",
    "    ):\n",
    "        best_estimator = estimator\n",
    "\n",
    "    save_best_estimator(best_estimator)"
   ]
  },
  {
   "cell_type": "code",
   "execution_count": 55,
   "id": "d318ff35",
   "metadata": {
    "ExecuteTime": {
     "end_time": "2025-06-18T16:00:40.518239400Z",
     "start_time": "2025-06-18T16:00:39.704749100Z"
    }
   },
   "outputs": [
    {
     "name": "stdout",
     "output_type": "stream",
     "text": [
      "ElasticNet(alpha=0.5, random_state=12345):\n",
      "  MSE: 0.5294843132862007\n",
      "  MAE: 0.5894666734018875\n",
      "  R2: 0.13368827268570616\n"
     ]
    }
   ],
   "source": [
    "train_estimator(0.5, 0.5)\n"
   ]
  },
  {
   "cell_type": "code",
   "execution_count": 56,
   "id": "b6bc540c",
   "metadata": {
    "ExecuteTime": {
     "end_time": "2025-06-18T16:00:41.252992900Z",
     "start_time": "2025-06-18T16:00:40.516088800Z"
    }
   },
   "outputs": [
    {
     "name": "stdout",
     "output_type": "stream",
     "text": [
      "ElasticNet(alpha=0.2, l1_ratio=0.2, random_state=12345):\n",
      "  MSE: 0.43869119518947153\n",
      "  MAE: 0.5236106762028768\n",
      "  R2: 0.2822387414965034\n"
     ]
    }
   ],
   "source": [
    "train_estimator(0.2, 0.2)"
   ]
  },
  {
   "cell_type": "code",
   "execution_count": 57,
   "id": "c178e97d",
   "metadata": {
    "ExecuteTime": {
     "end_time": "2025-06-18T16:00:42.083364700Z",
     "start_time": "2025-06-18T16:00:41.251000600Z"
    }
   },
   "outputs": [
    {
     "name": "stdout",
     "output_type": "stream",
     "text": [
      "ElasticNet(alpha=0.1, l1_ratio=0.1, random_state=12345):\n",
      "  MSE: 0.4183271587407731\n",
      "  MAE: 0.5055024368693067\n",
      "  R2: 0.31555720466583137\n"
     ]
    }
   ],
   "source": [
    "train_estimator(0.1, 0.1)"
   ]
  },
  {
   "cell_type": "code",
   "execution_count": 58,
   "id": "fa84441b",
   "metadata": {
    "ExecuteTime": {
     "end_time": "2025-06-18T16:00:42.848569Z",
     "start_time": "2025-06-18T16:00:42.081366100Z"
    }
   },
   "outputs": [
    {
     "name": "stdout",
     "output_type": "stream",
     "text": [
      "ElasticNet(alpha=0.1, l1_ratio=0.1, random_state=12345):\n",
      "  MSE: 0.4183271587407731\n",
      "  MAE: 0.5055024368693067\n",
      "  R2: 0.31555720466583137\n"
     ]
    }
   ],
   "source": [
    "######\n",
    "def check_estimator():\n",
    "\n",
    "    x, y = load_data()\n",
    "    x_train, x_test, y_train, y_test = make_train_test_split(x, y)\n",
    "    estimator = load_best_estimator()\n",
    "    mse, mae, r2 = eval_metrics(y_test, y_pred=estimator.predict(x_test))\n",
    "    report(estimator, mse, mae, r2)\n",
    "\n",
    "\n",
    "#\n",
    "# Debe coincidir con el mejor modelo encontrado en la celdas anteriores\n",
    "#\n",
    "check_estimator()"
   ]
  },
  {
   "cell_type": "code",
   "execution_count": 59,
   "id": "93352d70",
   "metadata": {
    "ExecuteTime": {
     "end_time": "2025-06-18T16:00:43.633296700Z",
     "start_time": "2025-06-18T16:00:42.847568500Z"
    }
   },
   "outputs": [
    {
     "name": "stdout",
     "output_type": "stream",
     "text": [
      "ElasticNet(alpha=0.1, l1_ratio=0.1, random_state=12345):\n",
      "  MSE: 0.4183271587407731\n",
      "  MAE: 0.5055024368693067\n",
      "  R2: 0.31555720466583137\n"
     ]
    }
   ],
   "source": [
    "#\n",
    "# Debe coincidir con el mejor modelo encontrado en la celdas anteriores\n",
    "#\n",
    "check_estimator()\n",
    "\n"
   ]
  },
  {
   "cell_type": "code",
   "execution_count": 60,
   "id": "4bd6d7a0",
   "metadata": {
    "ExecuteTime": {
     "end_time": "2025-06-18T16:00:43.634300900Z",
     "start_time": "2025-06-18T16:00:43.631785200Z"
    }
   },
   "outputs": [],
   "source": [
    "def make_hyperparameters_search(alphas, l1_ratios):\n",
    "\n",
    "    for alpha in alphas:\n",
    "        for l1_ratio in l1_ratios:\n",
    "            train_estimator(alpha=alpha, l1_ratio=l1_ratio, verbose=0)"
   ]
  },
  {
   "cell_type": "code",
   "execution_count": null,
   "id": "9ddef820",
   "metadata": {
    "is_executing": true,
    "ExecuteTime": {
     "start_time": "2025-06-18T16:00:43.634300900Z"
    }
   },
   "outputs": [],
   "source": [
    "    \n",
    "import numpy as np\n",
    "\n",
    "alphas = np.linspace(0.0001, 0.5, 10)\n",
    "l1_ratios = np.linspace(0.0001, 0.5, 10)\n",
    "make_hyperparameters_search(alphas, l1_ratios)\n",
    "check_estimator()"
   ]
  },
  {
   "cell_type": "code",
   "execution_count": null,
   "id": "a8eab371",
   "metadata": {
    "is_executing": true
   },
   "outputs": [],
   "source": [
    "def train_estimator(alphas, l1_ratios, n_splits=5, verbose=1):\n",
    "\n",
    "    from sklearn.linear_model import ElasticNet\n",
    "    from sklearn.model_selection import GridSearchCV\n",
    "\n",
    "    x, y = load_data()\n",
    "    x_train, x_test, y_train, y_test = make_train_test_split(x, y)\n",
    "\n",
    "    # -------------------------------------------------------------------------\n",
    "    # Búsqueda de parámetros con validación cruzada\n",
    "    #\n",
    "    estimator = GridSearchCV(\n",
    "        estimator=ElasticNet(\n",
    "            random_state=12345,\n",
    "        ),\n",
    "        param_grid={\n",
    "            \"alpha\": alphas,\n",
    "            \"l1_ratio\": l1_ratios,\n",
    "        },\n",
    "        cv=n_splits,\n",
    "        refit=True,\n",
    "        verbose=0,\n",
    "        return_train_score=False,\n",
    "    )\n",
    "    # -------------------------------------------------------------------------\n",
    "\n",
    "    estimator.fit(x_train, y_train)\n",
    "\n",
    "    estimator = estimator.best_estimator_\n",
    "\n",
    "    mse, mae, r2 = eval_metrics(y_test, y_pred=estimator.predict(x_test))\n",
    "    if verbose > 0:\n",
    "        report(estimator, mse, mae, r2)\n",
    "\n",
    "    best_estimator = load_best_estimator()\n",
    "    if best_estimator is None or estimator.score(x_test, y_test) > best_estimator.score(\n",
    "        x_test, y_test\n",
    "    ):\n",
    "        best_estimator = estimator\n",
    "\n",
    "    save_best_estimator(best_estimator)"
   ]
  },
  {
   "cell_type": "code",
   "execution_count": null,
   "id": "4d95f63a",
   "metadata": {
    "is_executing": true
   },
   "outputs": [],
   "source": [
    "###########\n",
    "import numpy as np\n",
    "\n",
    "train_estimator(\n",
    "    alphas=np.linspace(0.0001, 0.5, 10),\n",
    "    l1_ratios=np.linspace(0.0001, 0.5, 10),\n",
    "    n_splits=5,\n",
    "    verbose=1,\n",
    ")"
   ]
  },
  {
   "cell_type": "code",
   "execution_count": null,
   "id": "bb7b8a26",
   "metadata": {
    "is_executing": true
   },
   "outputs": [],
   "source": [
    "\n",
    "check_estimator()"
   ]
  }
 ],
 "metadata": {
  "kernelspec": {
   "display_name": ".venv",
   "language": "python",
   "name": "python3"
  },
  "language_info": {
   "codemirror_mode": {
    "name": "ipython",
    "version": 3
   },
   "file_extension": ".py",
   "mimetype": "text/x-python",
   "name": "python",
   "nbconvert_exporter": "python",
   "pygments_lexer": "ipython3",
   "version": "3.13.3"
  }
 },
 "nbformat": 4,
 "nbformat_minor": 5
}
